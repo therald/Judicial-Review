{
 "cells": [
  {
   "cell_type": "code",
   "execution_count": 20,
   "metadata": {},
   "outputs": [],
   "source": [
    "import csv\n",
    "\n",
    "years = []\n",
    "decisionDirections = []\n",
    "decisionsPerYear = {}\n",
    "\n",
    "with open('case_data.csv', 'rb') as csvrfile:\n",
    "    csvreader = csv.reader(csvrfile, delimiter=',', quotechar='\"')\n",
    "    next(csvreader, None)  # skip the headers\n",
    "    for row in csvreader:\n",
    "        decisionDates = row[4]\n",
    "        years.append(decisionDates.split('/')[2])\n",
    "        decisionDirections.append(row[41])\n",
    "        \n",
    "for index, value in enumerate(years):\n",
    "    if value not in decisionsPerYear:\n",
    "        decisionsPerYear[value] = {\n",
    "            \"liberal\": 0,\n",
    "            \"conservative\": 0,\n",
    "            \"unspecified\": 0\n",
    "        }\n",
    "    \n",
    "    if decisionDirections[index] == \"1\":\n",
    "        decisionsPerYear[value][\"conservative\"] += 1\n",
    "    if decisionDirections[index] == \"2\":\n",
    "        decisionsPerYear[value][\"liberal\"] += 1\n",
    "    if decisionDirections[index] == \"3\":\n",
    "        decisionsPerYear[value][\"unspecified\"] += 1\n",
    "    \n",
    "with open('ideology_data.csv', 'w') as csvwfile:\n",
    "    csvwriter = csv.writer(csvwfile)\n",
    "    csvwriter.writerow(['Year', 'Conservative', 'Liberal', 'Unspecified'])\n",
    "    for key in sorted(decisionsPerYear.iterkeys()):\n",
    "        row = [key]\n",
    "        row.append(decisionsPerYear[key][\"conservative\"])\n",
    "        row.append(decisionsPerYear[key][\"liberal\"])\n",
    "        row.append(decisionsPerYear[key][\"unspecified\"])\n",
    "        csvwriter.writerow(row)"
   ]
  },
  {
   "cell_type": "code",
   "execution_count": null,
   "metadata": {},
   "outputs": [],
   "source": []
  }
 ],
 "metadata": {
  "kernelspec": {
   "display_name": "Python 2",
   "language": "python",
   "name": "python2"
  },
  "language_info": {
   "codemirror_mode": {
    "name": "ipython",
    "version": 2
   },
   "file_extension": ".py",
   "mimetype": "text/x-python",
   "name": "python",
   "nbconvert_exporter": "python",
   "pygments_lexer": "ipython2",
   "version": "2.7.15"
  }
 },
 "nbformat": 4,
 "nbformat_minor": 2
}
